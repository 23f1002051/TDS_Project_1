{
  "cells": [
    {
      "cell_type": "code",
      "execution_count": 21,
      "id": "17871c8c-d5b7-4881-8fb2-c3f084deec73",
      "metadata": {
        "id": "17871c8c-d5b7-4881-8fb2-c3f084deec73"
      },
      "outputs": [],
      "source": [
        "import pandas as pd\n",
        "import numpy as np\n",
        "import matplotlib.pyplot as plt"
      ]
    },
    {
      "cell_type": "code",
      "execution_count": 22,
      "id": "4259def7-3934-411b-b441-64d7d24bd92c",
      "metadata": {
        "id": "4259def7-3934-411b-b441-64d7d24bd92c"
      },
      "outputs": [],
      "source": [
        "# Reading the csv files\n",
        "users = pd.read_csv('users.csv')\n",
        "repos = pd.read_csv('repositories.csv')"
      ]
    },
    {
      "cell_type": "markdown",
      "id": "7108a27f-97e8-4871-ae8d-c4c53a47dfe9",
      "metadata": {
        "id": "7108a27f-97e8-4871-ae8d-c4c53a47dfe9"
      },
      "source": [
        "#### Q1.  Who are the top 5 users in Toronto with the highest number of followers? List their login in order, comma-separated"
      ]
    },
    {
      "cell_type": "code",
      "execution_count": 23,
      "id": "a14993f9-48d3-4956-9cca-d4349c30f649",
      "metadata": {
        "colab": {
          "base_uri": "https://localhost:8080/"
        },
        "id": "a14993f9-48d3-4956-9cca-d4349c30f649",
        "outputId": "59de49fe-9fa0-44d9-d298-22ff03b1a8cb"
      },
      "outputs": [
        {
          "name": "stdout",
          "output_type": "stream",
          "text": [
            "aneagoie,ZhangMYihua,susanli2016,thedaviddias,ange-yaghi\n"
          ]
        }
      ],
      "source": [
        "top5 = users.sort_values(by='followers', ascending=False).head()\n",
        "print(','.join(top5['login'].tolist()))"
      ]
    },
    {
      "cell_type": "markdown",
      "id": "6cc86ddb-88c3-453c-bf56-29614358b62e",
      "metadata": {
        "id": "6cc86ddb-88c3-453c-bf56-29614358b62e"
      },
      "source": [
        "#### Q2. Who are the 5 earliest registered GitHub users in Toronto? List their login in ascending order of created_at, comma-separated."
      ]
    },
    {
      "cell_type": "code",
      "execution_count": 24,
      "id": "afe79990-ccd3-4c8d-b184-45de1f19097c",
      "metadata": {
        "id": "afe79990-ccd3-4c8d-b184-45de1f19097c"
      },
      "outputs": [],
      "source": [
        "users['created_at'] = pd.to_datetime(users['created_at'])"
      ]
    },
    {
      "cell_type": "code",
      "execution_count": 25,
      "id": "f9645405-1745-4f06-9ba8-681b5c1e51b0",
      "metadata": {
        "colab": {
          "base_uri": "https://localhost:8080/"
        },
        "id": "f9645405-1745-4f06-9ba8-681b5c1e51b0",
        "outputId": "42c44141-2a78-4b66-dd5c-4b28dce18bf6"
      },
      "outputs": [
        {
          "name": "stdout",
          "output_type": "stream",
          "text": [
            "jamesmacaulay,michaelklishin,myles,nwjsmith,cablehead\n"
          ]
        }
      ],
      "source": [
        "top_earliest = users.sort_values(by='created_at').head()\n",
        "print(','.join(top_earliest['login'].tolist()))"
      ]
    },
    {
      "cell_type": "markdown",
      "id": "1675cbcf-6a8b-4af8-b24a-1372f68efd6b",
      "metadata": {
        "id": "1675cbcf-6a8b-4af8-b24a-1372f68efd6b"
      },
      "source": [
        "#### Q3. What are the 3 most popular license among these users? Ignore missing licenses. List the license_name in order, comma-separated."
      ]
    },
    {
      "cell_type": "code",
      "execution_count": 45,
      "id": "f5b0a4ce-ae41-4066-a59a-58e81f27ad47",
      "metadata": {
        "colab": {
          "base_uri": "https://localhost:8080/",
          "height": 210
        },
        "id": "f5b0a4ce-ae41-4066-a59a-58e81f27ad47",
        "outputId": "95f7a6c8-630b-4683-8ebc-97f51c892b52"
      },
      "outputs": [
        {
          "data": {
            "text/plain": [
              "mit           13617\n",
              "other          4259\n",
              "apache-2.0     4126\n",
              "Name: license_name, dtype: int64"
            ]
          },
          "execution_count": 45,
          "metadata": {},
          "output_type": "execute_result"
        }
      ],
      "source": [
        "repos['license_name'].value_counts().head(3)"
      ]
    },
    {
      "cell_type": "markdown",
      "id": "662f1894-2c60-429c-b06d-cbe36afe6f08",
      "metadata": {
        "id": "662f1894-2c60-429c-b06d-cbe36afe6f08"
      },
      "source": [
        "#### Q4. Which company do the majority of these developers work at?"
      ]
    },
    {
      "cell_type": "code",
      "execution_count": 27,
      "id": "93a985b2-4e56-4871-9757-23e6ae5ed0de",
      "metadata": {
        "colab": {
          "base_uri": "https://localhost:8080/",
          "height": 147
        },
        "id": "93a985b2-4e56-4871-9757-23e6ae5ed0de",
        "outputId": "55afb4ae-a877-49b1-9717-d60b76f4f07b"
      },
      "outputs": [
        {
          "data": {
            "text/plain": [
              "UNIVERSITY OF TORONTO    21\n",
              "Name: company, dtype: int64"
            ]
          },
          "execution_count": 27,
          "metadata": {},
          "output_type": "execute_result"
        }
      ],
      "source": [
        "users['company'].value_counts().head(1)"
      ]
    },
    {
      "cell_type": "markdown",
      "id": "3e73104c-f44c-4e59-aecc-cb10a34578a1",
      "metadata": {
        "id": "3e73104c-f44c-4e59-aecc-cb10a34578a1"
      },
      "source": [
        "#### Q5. Which programming language is most popular among these users?"
      ]
    },
    {
      "cell_type": "code",
      "execution_count": 46,
      "id": "1abcf548-42aa-43fc-837e-86c6db860617",
      "metadata": {
        "colab": {
          "base_uri": "https://localhost:8080/",
          "height": 272
        },
        "id": "1abcf548-42aa-43fc-837e-86c6db860617",
        "outputId": "43884832-eb5f-4d0a-a835-50b562de62f4"
      },
      "outputs": [
        {
          "data": {
            "text/plain": [
              "JavaScript    10772\n",
              "Name: language, dtype: int64"
            ]
          },
          "execution_count": 46,
          "metadata": {},
          "output_type": "execute_result"
        }
      ],
      "source": [
        "repos['language'].value_counts().head(1)"
      ]
    },
    {
      "cell_type": "markdown",
      "id": "bf7abc13-3226-4c35-b42e-400f06cac01d",
      "metadata": {
        "id": "bf7abc13-3226-4c35-b42e-400f06cac01d"
      },
      "source": [
        "#### Q6. Which programming language is the second most popular among users who joined after 2020?"
      ]
    },
    {
      "cell_type": "code",
      "execution_count": 29,
      "id": "d01727ac-d1de-4407-a65b-db7a88223d81",
      "metadata": {
        "id": "d01727ac-d1de-4407-a65b-db7a88223d81"
      },
      "outputs": [],
      "source": [
        "# filter the users after 2020\n",
        "users_after_2020 = users[users['created_at'] > '2020-01-01']"
      ]
    },
    {
      "cell_type": "code",
      "execution_count": 30,
      "id": "aee537b6-38c7-4aa5-baae-c398fe385053",
      "metadata": {
        "colab": {
          "base_uri": "https://localhost:8080/",
          "height": 272
        },
        "id": "aee537b6-38c7-4aa5-baae-c398fe385053",
        "outputId": "b0d5131a-e292-4310-eecd-16ea15e673d7"
      },
      "outputs": [
        {
          "data": {
            "text/plain": [
              "JavaScript    338\n",
              "TypeScript    207\n",
              "Python        161\n",
              "HTML          122\n",
              "CSS            61\n",
              "Name: language, dtype: int64"
            ]
          },
          "execution_count": 30,
          "metadata": {},
          "output_type": "execute_result"
        }
      ],
      "source": [
        "repos_2020 = repos[repos['login'].isin(users_after_2020['login'].tolist())]\n",
        "repos_2020['language'].value_counts().head()"
      ]
    },
    {
      "cell_type": "markdown",
      "id": "d0b07a2f-bcae-496b-ab7e-188a2f0aa7be",
      "metadata": {
        "id": "d0b07a2f-bcae-496b-ab7e-188a2f0aa7be"
      },
      "source": [
        "#### Q7. Which language has the highest average number of stars per repository?"
      ]
    },
    {
      "cell_type": "code",
      "execution_count": 31,
      "id": "8c8a119a-e562-4855-8330-23b6dccdfea9",
      "metadata": {
        "colab": {
          "base_uri": "https://localhost:8080/"
        },
        "id": "8c8a119a-e562-4855-8330-23b6dccdfea9",
        "outputId": "d0cd0df1-0edd-484a-fc7b-01889571592b"
      },
      "outputs": [
        {
          "name": "stdout",
          "output_type": "stream",
          "text": [
            "Cython 1781.0\n"
          ]
        }
      ],
      "source": [
        "avg_stars = repos.groupby('language')['stargazers_count'].mean()\n",
        "top_lang = avg_stars.idxmax()\n",
        "top_stars = avg_stars.max()\n",
        "print(top_lang, top_stars)"
      ]
    },
    {
      "cell_type": "markdown",
      "id": "e430846a-1518-409f-8717-cb2f84570460",
      "metadata": {
        "id": "e430846a-1518-409f-8717-cb2f84570460"
      },
      "source": [
        "#### Q8. Let's define leader_strength as followers / (1 + following). Who are the top 5 in terms of leader_strength? List their login in order, comma-separated."
      ]
    },
    {
      "cell_type": "code",
      "execution_count": 32,
      "id": "aa51b046-149f-4ef5-89ff-62586043992c",
      "metadata": {
        "colab": {
          "base_uri": "https://localhost:8080/"
        },
        "id": "aa51b046-149f-4ef5-89ff-62586043992c",
        "outputId": "b478284b-5b01-4bd4-f788-3ae71975a4e6"
      },
      "outputs": [
        {
          "name": "stdout",
          "output_type": "stream",
          "text": [
            "aneagoie,nayuki,GrapheneOS,hlissner,rspivak\n"
          ]
        }
      ],
      "source": [
        "users['leader_strength'] = users['followers'] / (1 + users['following'])\n",
        "top5_lead = users.sort_values(by='leader_strength', ascending=False).head()\n",
        "print(','.join(top5_lead['login'].tolist()))"
      ]
    },
    {
      "cell_type": "markdown",
      "id": "8dd87be3-3a61-4fe1-ab5c-1ef836c545d3",
      "metadata": {
        "id": "8dd87be3-3a61-4fe1-ab5c-1ef836c545d3"
      },
      "source": [
        "#### Q9. What is the correlation between the number of followers and the number of public repositories among users in Toronto?"
      ]
    },
    {
      "cell_type": "code",
      "execution_count": 33,
      "id": "91e8b274-bde5-41ac-91d2-d965334f2d35",
      "metadata": {
        "colab": {
          "base_uri": "https://localhost:8080/"
        },
        "id": "91e8b274-bde5-41ac-91d2-d965334f2d35",
        "outputId": "dc749c46-8c83-46f1-9519-a63041fa8225"
      },
      "outputs": [
        {
          "data": {
            "text/plain": [
              "0.0562449875876806"
            ]
          },
          "execution_count": 33,
          "metadata": {},
          "output_type": "execute_result"
        }
      ],
      "source": [
        "correlation = users['followers'].corr(users['public_repos'])\n",
        "correlation"
      ]
    },
    {
      "cell_type": "markdown",
      "id": "23dac608-8b88-48d8-aeae-1e11b2cb2b87",
      "metadata": {
        "id": "23dac608-8b88-48d8-aeae-1e11b2cb2b87"
      },
      "source": [
        "#### Q10. Does creating more repos help users get more followers? Using regression, estimate how many additional followers a user gets per additional public repository."
      ]
    },
    {
      "cell_type": "code",
      "execution_count": 34,
      "id": "9eede565-f813-4807-989b-051201f7f411",
      "metadata": {
        "colab": {
          "base_uri": "https://localhost:8080/"
        },
        "id": "9eede565-f813-4807-989b-051201f7f411",
        "outputId": "2f814df5-1c75-477d-f3a4-70d660e08834"
      },
      "outputs": [
        {
          "name": "stdout",
          "output_type": "stream",
          "text": [
            "0.256\n"
          ]
        }
      ],
      "source": [
        "import csv\n",
        "followers = []\n",
        "public_repos = []\n",
        "with open('users.csv', 'r', encoding='utf-8') as file:\n",
        "    reader = csv.DictReader(file)\n",
        "    for row in reader:\n",
        "        followers_count = int(row['followers'])\n",
        "        public_repos_count = int(row['public_repos'])\n",
        "        followers.append(followers_count)\n",
        "        public_repos.append(public_repos_count)\n",
        "if len(followers) > 1 and len(public_repos) > 1:\n",
        "    slope, intercept = np.polyfit(public_repos, followers, 1)\n",
        "\n",
        "    print(f\"{slope:.3f}\")\n",
        "else:\n",
        "    print(\"Error\")"
      ]
    },
    {
      "cell_type": "markdown",
      "id": "b1739602-5cef-48d6-a3ef-3ecc1d12f405",
      "metadata": {
        "id": "b1739602-5cef-48d6-a3ef-3ecc1d12f405"
      },
      "source": [
        "#### Q11. Do people typically enable projects and wikis together? What is the correlation between a repo having projects enabled and having wiki enabled?"
      ]
    },
    {
      "cell_type": "code",
      "execution_count": 35,
      "id": "e680160d-cfa3-42ef-be27-55a772b77171",
      "metadata": {
        "colab": {
          "base_uri": "https://localhost:8080/",
          "height": 356
        },
        "id": "e680160d-cfa3-42ef-be27-55a772b77171",
        "outputId": "f0ce49de-c410-49e9-a068-a10bf97752ca"
      },
      "outputs": [
        {
          "name": "stdout",
          "output_type": "stream",
          "text": [
            "Correlation between has_projects and has_wiki: 0.372\n"
          ]
        }
      ],
      "source": [
        "# Convert 'has_projects' and 'has_wiki' to integers if they are booleans\n",
        "repos['has_projects'] = repos['has_projects'].astype(int)\n",
        "repos['has_wiki'] = repos['has_wiki'].astype(int)\n",
        "\n",
        "# Calculate Pearson correlation between 'has_projects' and 'has_wiki'\n",
        "correlation = repos['has_projects'].corr(repos['has_wiki'])\n",
        "\n",
        "# Print the correlation rounded to 3 decimal places\n",
        "print(f\"Correlation between has_projects and has_wiki: {correlation:.3f}\")"
      ]
    },
    {
      "cell_type": "markdown",
      "id": "7d1c5de4-b714-46e2-af6a-ad41e8a42f8f",
      "metadata": {
        "id": "7d1c5de4-b714-46e2-af6a-ad41e8a42f8f"
      },
      "source": [
        "#### Q12. Do hireable users follow more people than those who are not hireable?"
      ]
    },
    {
      "cell_type": "code",
      "execution_count": 48,
      "id": "cd51bed6-bba7-4407-94a9-ccc5e3968b4d",
      "metadata": {
        "id": "cd51bed6-bba7-4407-94a9-ccc5e3968b4d"
      },
      "outputs": [
        {
          "name": "stdout",
          "output_type": "stream",
          "text": [
            "difference: -14.888\n"
          ]
        }
      ],
      "source": [
        "hireable_avg_following = users[users['hireable']==True]['following'].mean()\n",
        "non_hireable_avg_following = users[users['hireable']==False]['following'].mean()\n",
        "difference = hireable_avg_following - non_hireable_avg_following\n",
        "print(f\"difference: {difference:.3f}\")"
      ]
    },
    {
      "cell_type": "markdown",
      "id": "1f30dbcf-90f2-4531-b37c-0386828e1f9f",
      "metadata": {
        "id": "1f30dbcf-90f2-4531-b37c-0386828e1f9f"
      },
      "source": [
        "#### Q13. Some developers write long bios. Does that help them get more followers? What's the correlation of the length of their bio (in Unicode characters) with followers? (Ignore people without bios)"
      ]
    },
    {
      "cell_type": "code",
      "execution_count": 51,
      "id": "a324c8b4-9faf-4f4d-9c3d-0813e6bdbfb8",
      "metadata": {
        "id": "a324c8b4-9faf-4f4d-9c3d-0813e6bdbfb8"
      },
      "outputs": [
        {
          "name": "stdout",
          "output_type": "stream",
          "text": [
            "Regression slope of followers on bio word count: 8.082\n"
          ]
        }
      ],
      "source": [
        "import pandas as pd\n",
        "import statsmodels.api as sm\n",
        "\n",
        "users_df = pd.read_csv('users.csv')\n",
        "\n",
        "users_with_bios = users_df[users_df['bio'].notna()].copy()\n",
        "\n",
        "users_with_bios['bio_word_count'] = users_with_bios['bio'].apply(lambda x: len(x.split()))\n",
        "\n",
        "X = users_with_bios['bio_word_count']  # Independent variable\n",
        "y = users_with_bios['followers']        # Dependent variable\n",
        "\n",
        "X = sm.add_constant(X)\n",
        "\n",
        "model = sm.OLS(y, X).fit()\n",
        "\n",
        "slope = model.params['bio_word_count']\n",
        "\n",
        "print(f'Regression slope of followers on bio word count: {slope:.3f}')"
      ]
    },
    {
      "cell_type": "markdown",
      "id": "96cb22e4-4046-40cf-9be5-06f096b0f0c3",
      "metadata": {
        "id": "96cb22e4-4046-40cf-9be5-06f096b0f0c3"
      },
      "source": [
        "#### Q14. Who created the most repositories on weekends (UTC)? List the top 5 users' login in order, comma-separated"
      ]
    },
    {
      "cell_type": "code",
      "execution_count": 38,
      "id": "ab49dafe-2981-4fe1-b603-0bee0e61e04f",
      "metadata": {
        "colab": {
          "base_uri": "https://localhost:8080/"
        },
        "id": "ab49dafe-2981-4fe1-b603-0bee0e61e04f",
        "outputId": "a72a0f40-6fb1-4a83-9064-8244edfbd3c9"
      },
      "outputs": [
        {
          "name": "stdout",
          "output_type": "stream",
          "text": [
            "andyw8,QuinntyneBrown,invokethreatguy,rgrinberg,Devang-25\n"
          ]
        }
      ],
      "source": [
        "import csv\n",
        "from collections import Counter\n",
        "from datetime import datetime\n",
        "\n",
        "weekend_repo_counts = Counter()\n",
        "\n",
        "with open('repositories.csv', 'r', encoding='utf-8') as file:\n",
        "    reader = csv.DictReader(file)\n",
        "\n",
        "    for row in reader:\n",
        "        created_at = row.get('created_at', '')\n",
        "        if created_at:\n",
        "            created_date = datetime.fromisoformat(created_at[:-1])\n",
        "\n",
        "            if created_date.weekday() in [5, 6]:\n",
        "                user_login = row['login']\n",
        "                weekend_repo_counts[user_login] += 1\n",
        "\n",
        "top_users = weekend_repo_counts.most_common(5)\n",
        "\n",
        "top_logins = [user[0] for user in top_users]\n",
        "\n",
        "print(','.join(top_logins))"
      ]
    },
    {
      "cell_type": "markdown",
      "id": "6d9da60a-2ff0-4421-808e-ab9a74bf02fb",
      "metadata": {
        "id": "6d9da60a-2ff0-4421-808e-ab9a74bf02fb"
      },
      "source": [
        "#### Q15. Do people who are hireable share their email addresses more often?"
      ]
    },
    {
      "cell_type": "code",
      "execution_count": 39,
      "id": "b8381831-d1ed-4855-afc2-97ad1c06a1af",
      "metadata": {
        "colab": {
          "base_uri": "https://localhost:8080/"
        },
        "id": "b8381831-d1ed-4855-afc2-97ad1c06a1af",
        "outputId": "f16a7d33-8880-4f4f-eebe-8bbdba34d5b6"
      },
      "outputs": [
        {
          "data": {
            "text/plain": [
              "0.13402091093002594"
            ]
          },
          "execution_count": 39,
          "metadata": {},
          "output_type": "execute_result"
        }
      ],
      "source": [
        "fraction_hierable = users[users['hireable'] == True]['email'].notna().mean()\n",
        "fraction_non_hierable = users[users['hireable'] == False]['email'].notna().mean()\n",
        "diff = fraction_hierable - fraction_non_hierable\n",
        "diff"
      ]
    },
    {
      "cell_type": "markdown",
      "id": "806a227e-1285-4c5f-bb05-867a3fd5101a",
      "metadata": {
        "id": "806a227e-1285-4c5f-bb05-867a3fd5101a"
      },
      "source": [
        "#### Q16. Let's assume that the last word in a user's name is their surname (ignore missing names, trim and split by whitespace.) What's the most common surname? (If there's a tie, list them all, comma-separated, alphabetically)"
      ]
    },
    {
      "cell_type": "code",
      "execution_count": 40,
      "id": "01a24dfb-05cc-4528-b118-558b2307639c",
      "metadata": {
        "colab": {
          "base_uri": "https://localhost:8080/"
        },
        "id": "01a24dfb-05cc-4528-b118-558b2307639c",
        "outputId": "25b30e95-f04c-474c-a0c3-2dd436f247d9"
      },
      "outputs": [
        {
          "name": "stdout",
          "output_type": "stream",
          "text": [
            "Ahmed\n"
          ]
        }
      ],
      "source": [
        "new_users = users[users['name'].notna()].copy()\n",
        "new_users['surname'] = new_users['name'].str.split().str[-1].str.strip()\n",
        "surname_counts = new_users['surname'].value_counts()\n",
        "max_count = surname_counts.max()\n",
        "common_surnames = surname_counts[surname_counts == max_count].index.tolist()\n",
        "common_surnames.sort()\n",
        "print(','.join(common_surnames))"
      ]
    }
  ],
  "metadata": {
    "colab": {
      "provenance": []
    },
    "kernelspec": {
      "display_name": "Python (eda)",
      "language": "python",
      "name": "eda"
    },
    "language_info": {
      "codemirror_mode": {
        "name": "ipython",
        "version": 3
      },
      "file_extension": ".py",
      "mimetype": "text/x-python",
      "name": "python",
      "nbconvert_exporter": "python",
      "pygments_lexer": "ipython3",
      "version": "3.12.2"
    }
  },
  "nbformat": 4,
  "nbformat_minor": 5
}
